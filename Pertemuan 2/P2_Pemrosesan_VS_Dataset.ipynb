{
 "cells": [
  {
   "cell_type": "markdown",
   "id": "5753253d-8878-47af-b04e-11bc85ec03b2",
   "metadata": {
    "editable": true,
    "raw_mimetype": "",
    "slideshow": {
     "slide_type": ""
    },
    "tags": []
   },
   "source": [
    "# Pertemuan 2: Pengumpulan, Pemrosesan dan Visualisasi pada Dataset\n",
    "\n",
    "**[TKE1686] MK Machine Learning (3-SKS)**\n",
    "\n",
    "oleh Gramandha Wega Intyanto\n"
   ]
  },
  {
   "cell_type": "markdown",
   "id": "a665cc31-e978-4be0-a6ff-b4d7a44e4f1c",
   "metadata": {},
   "source": [
    "## 1. Alur Kerja pada Machine Learning"
   ]
  },
  {
   "cell_type": "markdown",
   "id": "6c14214e-e251-4ca7-86b6-2791f570ec62",
   "metadata": {},
   "source": [
    "```mermaid\n",
    "graph LR;\n",
    "    A[\"Tahap 1\\nPengumpulan Dataset\"] --> B[\"Tahap 2\\nPemrosesan Dataset\"];\n",
    "    B --> C[\"Tahap 3\\nPembelajaran Model\"];\n",
    "    C --> D[\"Tahap 4\\nEvaluasi Model\"];\n",
    "    \n",
    "    D -.->|Perbaikan pemrosesan Dataset| B;\n",
    "    D -.->|Revisi Model| C;\n",
    "    D -.->|Perbaikan Dataset| A;"
   ]
  },
  {
   "cell_type": "markdown",
   "id": "aae47a1a-1a42-409f-9f79-e9eb5a677cd6",
   "metadata": {},
   "source": [
    "1. Pengumpulan Dataset: Langkah awal ML adalah mengumpulkan kumpulan data. Hal-hal yang harus dipertimbangakan dalam pengumpulan data yaitu metode pengambilan data, data akan digunakan untuk apa?\n",
    "\n",
    "2. Preproses Data: Data yang kami kumpulkan sering kali tidak terorganisir dan tidak dapat langsung digunakan untuk melatih model. Sebelum melanjutkan ke langkah berikutnya, data perlu diproses terlebih dahulu.\n",
    "    - Kumpulan data mungkin berisi data yang hilang atau berisik, perlu di **perbaiki atau di filter**;\n",
    "    - Data yang berbeda dapat berada dalam rentang yang berbeda, perlu dilakukan **standarisasi atau normalisasi** karena bisa jadi menjadi masalah bagi model;\n",
    "    - Perlu **menemukan dan memilih data yang lebih berkontribusi** untuk menemukan variabel target;\n",
    "    - Terakhir, kumpulan data harus dibagi menjadi dua set yaitu **pelatihan** dan **pengujian** (bisa juga dilakukan pembagian menjadi 3 yaitu **pelatihan, validasi, pengujian**) | yang sering digunakan 80% set pelatihan, 20% set pengujian / 70% set pelatihan 20% set validasi 10% set pengujian.\n",
    "3. Melatih Model: Berdasarkan permasalahan, jenis model yang dibutuhkan harus dipilih terlebih dahulu. Saat memilih model, informasi yang tersedia pada kumpulan data harus dipertimbangkan.\n",
    "4. Evaluasi Model: Setelah model dibangun dan dilatih, penting untuk memahami seberapa baik model telah dilatih, seberapa baik kinerjanya, dan apakah model akan berguna untuk eksperimen. Kumpulan **data set pengujiandigunakan untuk menguji model** , dan berbagai **metrik evaluasi** digunakan untuk mengevaluasi dan memahami model."
   ]
  },
  {
   "cell_type": "markdown",
   "id": "99fc5a0e-7cef-426e-83fc-ad25c3710a87",
   "metadata": {},
   "source": [
    "## 2. Dataset\n",
    "- Performa model sangat bergantung pada persiapan kumpulan data (dataset).\n",
    "- Biasanya Kumpulan data paling baik disusun dalam bentuk tabel, di mana setiap baris sesuai dengan satu entri data dan setiap kolom mewakili variabel tertentu yang terkait dengan semua data yang tersedia dalam kumpulan data tersebut.\n",
    "- Ukuran kumpulan data yang berkisar dari terabyte hingga megabyte dapat disebut sebagai kumpulan data besar, sedangkan kumpulan data dalam kisaran kilobyte adalah kumpulan data kecil.\n"
   ]
  },
  {
   "cell_type": "markdown",
   "id": "b2ecc66c-1ea2-4f00-b87b-460480f5993b",
   "metadata": {},
   "source": [
    "## 2.1. Pengumpulan Data \n",
    "\n",
    "a. Data yang diambil langsung dari secara langsung dengan beberapa komponen sensor-sensor. \n",
    "\n",
    "    - Kamera dan sensor optik untuk pengambilan data citra.\n",
    "    - Senosr IMU untuk pengambilan data percepatan, rotasi dan orientasi.\n",
    "    - Bisa juga dataset kumpulan beberapa sensor seperti data loging\n",
    "    - dsb.\n",
    "b. Data yang diambil langsung dari beberapa platform data public\n",
    "\n",
    "    - (roboflow, keaggle, coco, pascal voc, dsb)\n",
    "        \n",
    "  Beberapa Rekomendasi Dataset untuk Machine Learning dalam Teknik Elektro\n",
    "  \n",
    "*1. Dataset untuk Pengolahan Citra (Computer Vision)*\n",
    "- **[MNIST](http://yann.lecun.com/exdb/mnist/)** Dataset angka tulisan tangan (0-9) untuk klasifikasi.  \n",
    "- **[CIFAR-10 & CIFAR-100](https://www.cs.toronto.edu/~kriz/cifar.html)**  Dataset gambar untuk klasifikasi objek.  \n",
    "- **[COCO (Common Objects in Context)](https://cocodataset.org/)**  Dataset objek dunia nyata untuk deteksi dan segmentasi.  \n",
    "- **[Open Electrical Substation Images](https://www.kaggle.com/datasets/googleai/electrical-substation-images)**  Dataset gambar infrastruktur listrik.  \n",
    "\n",
    "*2. Dataset untuk Pemrosesan Sinyal dan Sistem Tenaga*\n",
    "- **[EEG Brainwave Dataset](https://www.kaggle.com/datasets/mihailbonchis/eeg-brainwave-dataset-feeling-emotions)**  Data sinyal EEG untuk analisis otak.  \n",
    "- **[ECG Heartbeat Categorization Dataset](https://www.kaggle.com/datasets/shayanfazeli/heartbeat)**  Sinyal jantung ECG untuk klasifikasi kondisi kesehatan.  \n",
    "- **[Electricity Load Forecasting](https://www.kaggle.com/datasets/robikscube/hourly-energy-consumption)**  Dataset konsumsi energi listrik untuk prediksi.  \n",
    "- **[Fault Detection in Power Systems](https://www.kaggle.com/datasets/ahmedmohameddahab/power-system-fault-detection)**   Dataset deteksi gangguan pada jaringan listrik.  \n",
    "\n",
    "*3. Dataset untuk Kendali dan Robotika*\n",
    "- **[Self-Driving Car Dataset (Udacity)](https://www.kaggle.com/datasets/andrewmvd/self-driving-car-dataset)**  Dataset untuk pengendalian kendaraan otonom.  \n",
    "- **[MIT Push Dataset](https://www.mit.edu/~phillipi/push/)**  Dataset untuk robotik dan manipulasi objek.  \n",
    "- **[CMU Motion Capture Dataset](http://mocap.cs.cmu.edu/)**  Data pergerakan tubuh manusia untuk kontrol robot.  \n",
    "\n",
    "*4. Dataset untuk Prediksi dan Analisis Data*\n",
    "- **[Weather Dataset](https://www.kaggle.com/datasets/selfishgene/historical-hourly-weather-data)**  Dataset cuaca untuk prediksi suhu dan kondisi lingkungan.  \n",
    "- **[Energy Efficiency Dataset](https://archive.ics.uci.edu/ml/datasets/Energy+efficiency)**  Dataset untuk prediksi konsumsi energi pada bangunan.  \n",
    "- **[Battery Dataset](https://www.kaggle.com/datasets/arpitbhayani/tesla-battery-data)**  Data performa baterai untuk analisis degradasi.  \n",
    "\n",
    "*5. Dataset untuk Keamanan dan Deteksi Anomali*\n",
    "- **[NSL-KDD](https://www.unb.ca/cic/datasets/nsl.html)**  Dataset deteksi serangan siber dalam jaringan komputer.  \n",
    "- **[Power Grid Stability Dataset](https://www.kaggle.com/datasets/berkerisen/power-grid-stability)**  Data stabilitas jaringan listrik.  \n",
    "- **[Water Treatment Plant Dataset](https://archive.ics.uci.edu/ml/datasets/Water+Treatment+Plant)**  Dataset pemantauan kualitas air untuk deteksi anomali.\n",
    "  \n"
   ]
  },
  {
   "cell_type": "markdown",
   "id": "e40872b1-4431-4ce3-8202-b4f360fc51c3",
   "metadata": {},
   "source": [
    "## 2.2.a Pra-Pemrosesan Data\n",
    "Ini adalah tahap awal yang bertujuan untuk membersihkan dan menyusun data agar lebih siap digunakan dalam analisis atau pembelajaran mesin. Proses ini mencakup beberapa langkah utama, yaitu:\n",
    "1. Data Integration (Integrasi Data) : Menggabungkan data dari berbagai sumber agar menjadi satu kesatuan yang dapat dianalisis.\n",
    "2. Schema Integration: Menyamakan struktur data dari berbagai sumber.\n",
    "3. Entity Identification Problem: Menyamakan identitas entitas yang sama tetapi memiliki format berbeda di beberapa sumber data.\n",
    "4. Detecting and Resolving Data Values Concepts: Mengidentifikasi dan menyelesaikan perbedaan nilai data yang memiliki makna serupa.\n",
    "   \n",
    "```mermaid\n",
    "graph TD;\n",
    "    A[Data Preprocessing] --> B[Data Integration]\n",
    "    B --> C[Schema integration]\n",
    "    B --> D[Entity identification problem]\n",
    "    B --> E[Detecting and resolving data values concepts]\n",
    "    \n",
    "    A --> F[Data Reduction or Dimension Reduction]\n",
    "    F --> G[Data cube aggregation]\n",
    "    F --> H[Attribute subset selection]\n",
    "    F --> I[Numerosity reduction]\n",
    "    F --> J[Dimensionality reduction]\n",
    "    \n",
    "    A --> K[Data Transformation]\n",
    "    K --> L[Normalization]\n",
    "    K --> M[Attribute selection]\n",
    "    K --> N[Discretization]\n",
    "    K --> O[Concept hierarchy generation]\n",
    "    \n",
    "    A --> P[Data Cleaning]\n",
    "    P --> Q[Missing data]\n",
    "    P --> R[Noisy data]\n"
   ]
  },
  {
   "cell_type": "markdown",
   "id": "031c3035-04df-4b8b-a3a7-26ce060e6fdf",
   "metadata": {},
   "source": [
    "## **2.2.b Pra-Pemrosesan data**\n",
    "\n",
    "Pra-Pemrosesan data (refrensi dari buku _machine learning crash course for engineers_) juga bisa di lakukan dengan cara sederhana sebagai berikut yang akan di bahas lebih detail pada materi ini :\n",
    "1. _Data Wrangling_\n",
    "2. _Feature Scaling_\n",
    "3. _Data Types_\n",
    "4. _Data Splitting_"
   ]
  },
  {
   "cell_type": "markdown",
   "id": "c2251bce-1976-4e89-a971-b40be439fa64",
   "metadata": {},
   "source": [
    "## a. Data Wrangling\n",
    "\n",
    "Data wrangling, juga dikenal sebagai data munging, adalah proses pra-pemrosesan data yang mencakup pengumpulan, pembersihan, transformasi, dan penggabungan data dari berbagai sumber menjadi bentuk yang dapat diolah."
   ]
  },
  {
   "cell_type": "markdown",
   "id": "3c979128-1c99-4121-8417-6f4af43ea473",
   "metadata": {},
   "source": [
    "#### a.1. Explorasi Data"
   ]
  },
  {
   "cell_type": "code",
   "execution_count": null,
   "id": "cc5e53f3-a7d3-4004-b2bd-8b5b60bb3cec",
   "metadata": {},
   "outputs": [],
   "source": [
    "import pandas as pd\n",
    "df = pd.read_csv(\"data.csv\")"
   ]
  },
  {
   "cell_type": "markdown",
   "id": "0f45ea20-4e81-416f-8690-5bb6c9a2a90b",
   "metadata": {},
   "source": [
    "#### a.2. Membersihkan data \n",
    "\n",
    "a.2.1. missing dengan imputasi"
   ]
  },
  {
   "cell_type": "code",
   "execution_count": 38,
   "id": "23c8343a-d201-42a0-bccc-1514421f57dc",
   "metadata": {},
   "outputs": [
    {
     "name": "stdout",
     "output_type": "stream",
     "text": [
      "[[1, 5], [2, 10], [nan, 2], [7, 35], [6, nan], [15, 75], [0, 0]]\n"
     ]
    }
   ],
   "source": [
    "X = [[1, 5],[2, 10], [np.nan, 2],[7, 35],[6, np.nan],[15, 75],[0, 0]]\n",
    "print(X)"
   ]
  },
  {
   "cell_type": "code",
   "execution_count": 40,
   "id": "2697afe6-e65e-48cf-b095-113f733dcdd5",
   "metadata": {},
   "outputs": [
    {
     "name": "stdout",
     "output_type": "stream",
     "text": [
      "[[ 1.          5.        ]\n",
      " [ 2.         10.        ]\n",
      " [ 5.16666667  2.        ]\n",
      " [ 7.         35.        ]\n",
      " [ 6.         21.16666667]\n",
      " [15.         75.        ]\n",
      " [ 0.          0.        ]]\n"
     ]
    }
   ],
   "source": [
    "import numpy as np\n",
    "from sklearn.impute import SimpleImputer\n",
    "\n",
    "# Menggunakan imputasi mean untuk mengganti nilai NaN\n",
    "imputer = SimpleImputer(strategy=\"mean\")  # Bisa diganti dengan \"median\" atau \"most_frequent\"\n",
    "X_imputed = imputer.fit_transform(X)\n",
    "\n",
    "print(X_imputed)"
   ]
  },
  {
   "cell_type": "markdown",
   "id": "927175a3-16cc-4d0f-aebb-a4486fe7999d",
   "metadata": {},
   "source": [
    "a.2.2.Menghapus duplikasi data"
   ]
  },
  {
   "cell_type": "code",
   "execution_count": null,
   "id": "f5b2a810-29c9-4cc0-b85e-3d98447b2224",
   "metadata": {},
   "outputs": [],
   "source": [
    "df.drop_duplicates(inplace=True)"
   ]
  },
  {
   "cell_type": "markdown",
   "id": "0be2c508-ff41-49c0-be18-71bcf18db0d3",
   "metadata": {},
   "source": [
    "a.2.3.Mengoreksi format data"
   ]
  },
  {
   "cell_type": "code",
   "execution_count": null,
   "id": "2b14140a-49f6-4d80-95be-b0fb4a025abe",
   "metadata": {},
   "outputs": [],
   "source": [
    "df[\"tanggal\"] = pd.to_datetime(df[\"tanggal\"])  # Mengubah ke format datetime\n",
    "df[\"harga\"] = df[\"harga\"].astype(float)  # Mengubah tipe data"
   ]
  },
  {
   "cell_type": "markdown",
   "id": "54698d20-1420-465e-ac00-bfff46e6c313",
   "metadata": {},
   "source": [
    "#### a.3. Menggabungkan Data"
   ]
  },
  {
   "cell_type": "code",
   "execution_count": null,
   "id": "4956a6c4-4dea-4143-afc7-6513a17a8245",
   "metadata": {},
   "outputs": [],
   "source": [
    "df_merged = pd.merge(df1, df2, on=\"ID\")"
   ]
  },
  {
   "cell_type": "markdown",
   "id": "210a812b-cc60-4200-a22b-59182cc66fce",
   "metadata": {},
   "source": [
    "### b. Feature Scaling\n",
    "Saat bekerja dengan berbagai fitur atau variabel, hampir dapat dipastikan bahwa kita memiliki data pada berbagai fitur dalam rentang yang berbeda. \n",
    "\n",
    "> **Kasus**, satu set data memiliki dua fitur: suhu dan kelembapan. Nilai untuk suhu berkisar antara 25 hingga 0,35 ◦ C, dan nilai untuk kelembapan berkisar antara 70 hingga 90%. Rentangnya berbeda untuk kedua fitur tersebut, sehingga keduanya tidak dapat dibandingkan. Perbedaan rentang ini juga tidak sesuai untuk digunakan oleh algoritme ML.\n",
    "\n",
    "Oleh karena itu, semacam **transformasi dilakukan pada nilai atribut sehingga semua fitur berada dalam rentang yang sebanding dan dapat digunakan**. Transformasi yang dilakukan pada data untuk tujuan ini adalah **penskalaan fitur**. Ada berbagai metode untuk penskalaan fitur, tiga di antaranya adalah **standarisasi, normalisasi, dan penambahan data _(data agumentation)_**. Metode-metode ini dijelaskan dalam bagian berikut."
   ]
  },
  {
   "attachments": {},
   "cell_type": "markdown",
   "id": "a9ee555c-1f6e-4481-8554-4adab65945a2",
   "metadata": {},
   "source": [
    "#### b.1. Standardisasi\n",
    "Standardisasi merupakan metode yang sangat populer untuk penskalaan fitur. Setelah menstandardisasi\n",
    "himpunan data, kita memperoleh nilai rata-rata nol dan simpangan baku satuan. Metode ini\n",
    "digunakan terutama dalam kasus-kasus di mana distribusi data mengikuti distribusi normal.\n",
    "Menstandardisasi data tidak membawa data ke rentang tertentu yang telah ditetapkan sebelumnya.\n",
    "Oleh karena itu, metode penskalaan fitur ini **tidak terpengaruh oleh outlier**. Setiap kali suatu fitur distandarisasi, setiap data terlebih dahulu dikurangi dari nilai rata-rata dan kemudian dibagi dengan simpangan baku.\n",
    "\n",
    "$\n",
    "X_{std} = \\frac{X - \\mu}{\\sigma}\n",
    "$\n",
    "\n",
    "<img src=\"std.png\" width=\"400\"/>\n",
    "\n",
    "#### b.2. Normalisasi\n",
    "Normalisasi adalah metode lain yang populer digunakan untuk penskalaan fitur. Normalisasi\n",
    "adalah teknik untuk mengubah nilai numerik yang berbeda menjadi rentang umum tanpa\n",
    "mendistorsi perbedaan antara nilai-nilai tersebut. Ini menskalakan semua nilai fitur\n",
    "dalam rentang [0,1] atau [.−1,1]. Karena ada nilai rentang tertentu yang menormalkan\n",
    "data, **outlier yang ada dalam kumpulan data memengaruhi metode ini**. Normalisasi bermanfaat ketika distribusi data kumpulan data tidak diketahui.\n",
    "\n",
    "$X_{norm} = \\frac{X - X_{min}}{X_{max} - X_{min}}$\n",
    "\n",
    "<img src=\"norm.png\" width=\"400\"/>\n",
    "\n",
    "| **Kondisi**                                      | **Gunakan Normalisasi** | **Gunakan Standarisasi** |\n",
    "|--------------------------------------------------|------------------------|-------------------------|\n",
    "| Data tidak berdistribusi normal                 | ✅                      | ❌                      |\n",
    "| Data berdistribusi normal (Gaussian)            | ❌                      | ✅                      |\n",
    "| Ada outlier ekstrem                              | ❌                      | ✅                      |\n",
    "| Algoritma berbasis jarak (KNN, NN, SVM-RBF)      | ✅                      | ❌                      |\n",
    "| Algoritma berbasis distribusi (Regresi, PCA, SVM-Linear) | ❌             | ✅                      |\n",
    "\n"
   ]
  },
  {
   "cell_type": "code",
   "execution_count": 28,
   "id": "901d1efb-4cbf-422d-a2f2-3bcf5216e0ec",
   "metadata": {},
   "outputs": [
    {
     "name": "stdout",
     "output_type": "stream",
     "text": [
      "Temperature = [25, 21, 30, 35, 34, 33, 32, 33, 24, 23] \n",
      "Humidity = [78, 75, 88, 72, 83, 79, 76, 88, 85, 77]\n"
     ]
    }
   ],
   "source": [
    "Temperature = [25, 21, 30, 35, 34, 33, 32, 33, 24, 23]\n",
    "Humidity = [78, 75, 88, 72, 83, 79, 76, 88, 85, 77]\n",
    "\n",
    "print ('Temperature =', Temperature, '\\nHumidity =', Humidity)"
   ]
  },
  {
   "cell_type": "code",
   "execution_count": 30,
   "id": "f82bfbe8-672b-471f-a04f-fc044c3f2b50",
   "metadata": {},
   "outputs": [
    {
     "name": "stdout",
     "output_type": "stream",
     "text": [
      "Hasil Normalisasi\n",
      "Temperature: [0.28571429 0.         0.64285714 1.         0.92857143 0.85714286\n",
      " 0.78571429 0.85714286 0.21428571 0.14285714]\n",
      "Humidity: [0.375  0.1875 1.     0.     0.6875 0.4375 0.25   1.     0.8125 0.3125]\n",
      "\n",
      "Hasil Standarisasi (Z-score Scaling)\n",
      "Temperature: [-0.80977633 -1.61955266  0.20244408  1.2146645   1.01222041  0.80977633\n",
      "  0.60733225  0.80977633 -1.01222041 -1.2146645 ]\n",
      "Humidity: [-0.39622642 -0.96226415  1.49056604 -1.52830189  0.54716981 -0.20754717\n",
      " -0.77358491  1.49056604  0.9245283  -0.58490566]\n"
     ]
    }
   ],
   "source": [
    "import numpy as np\n",
    "from sklearn.preprocessing import MinMaxScaler, StandardScaler\n",
    "\n",
    "# Data asli\n",
    "Temperature = np.array([25, 21, 30, 35, 34, 33, 32, 33, 24, 23]).reshape(-1, 1)\n",
    "Humidity = np.array([78, 75, 88, 72, 83, 79, 76, 88, 85, 77]).reshape(-1, 1)\n",
    "\n",
    "# Normalisasi (Min-Max Scaling)\n",
    "minmax_scaler = MinMaxScaler()\n",
    "Temperature_norm = minmax_scaler.fit_transform(Temperature)\n",
    "Humidity_norm = minmax_scaler.fit_transform(Humidity)\n",
    "\n",
    "# Standarisasi (Z-score Scaling)\n",
    "std_scaler = StandardScaler()\n",
    "Temperature_std = std_scaler.fit_transform(Temperature)\n",
    "Humidity_std = std_scaler.fit_transform(Humidity)\n",
    "\n",
    "# Menampilkan hasil\n",
    "print(\"Hasil Normalisasi\")\n",
    "print(\"Temperature:\", Temperature_norm.flatten())\n",
    "print(\"Humidity:\", Humidity_norm.flatten())\n",
    "\n",
    "print(\"\\nHasil Standarisasi (Z-score Scaling)\")\n",
    "print(\"Temperature:\", Temperature_std.flatten())\n",
    "print(\"Humidity:\", Humidity_std.flatten())\n"
   ]
  },
  {
   "cell_type": "markdown",
   "id": "e7c31ac2-dc9a-4fe2-891c-e5a7a47cd26b",
   "metadata": {},
   "source": [
    "### c. _Data Type_\n",
    "\n",
    "Algoritme pembelajaran mesin menangani berbagai jenis data. Oleh karena itu, berbagai jenis data memerlukan pendekatan yang berbeda terhadap algoritme ML. Jenis data dapat dikategorikan sebagai (a.1.) berurutan dan tidak berurutan dan (a.2) stasioner dan tidak stasioner.\n",
    "\n",
    "#### c.1. Berurutan dan tidak berurutan\n",
    "\n",
    "- Tipe data sekuensial adalah tipe data yang memiliki urutan tertentu, seperti daftar, string, tupel, urutan byte, array byte, dan objek rentang. Elemen dalam tipe data tersebut dapat diakses melalui indeksnya, yang menunjukkan posisi mereka dalam urutan dan dimulai dari 0. Gambar (a)\n",
    "- Tipe data non-sekuensial tidak memiliki urutan, seperti kamus (_dictoneries_) dan set. Tidak ada urutan yang dipertahankan di antara elemen dalam tipe data non-sekuensial. Gambar (b)\n",
    "\n",
    "<img src=\"data_urutan.png\" width=\"400\"/>\n",
    "\n",
    "#### c.2. Stasioner dan non-stasioner\n",
    "- Kumpulan data stasioner diketahui memiliki sifat statistik yang konstan, seperti rata-rata, varians, dll., seiring waktu. Data dalam kumpulan data tersebut mudah diramalkan karena sifatnya tidak berubah seiring waktu. \n",
    "\n",
    "- Kumpulan data non-stasioner yaitu kumpulan data yang sifat statistiknya berubah seiring waktu . Jenis data ini tidak dapat diramalkan atau dimodelkan karena sifatnya yang bervariasi. Data non-stasioner memiliki tren, siklus, atau musiman di dalamnya. Gambar 3.5 menunjukkan contoh data stasioner dan non-stasioner.\n",
    "\n",
    "<img src=\"time_series.png\" width=\"400\"/>"
   ]
  },
  {
   "cell_type": "markdown",
   "id": "775ee82b-247d-4e14-adce-127666adb1dd",
   "metadata": {},
   "source": [
    "### d. Data Spliting\n",
    "Pemisahan data berfungsi untuk melatih model ML dengan tepat. Pemisahan yang tepat mencegah model dari overfitting, memastikan penilaian yang tepat, dan meningkatkan kinerja model. \n",
    "\n",
    "Cara pemisahan data yang paling umum adalah \n",
    "    \n",
    "    - dengan membagi dataset menjadi dua subset—satu dataset pelatihan dan satu lagi dataset pengujian. \n",
    "    \n",
    "    - namun, konvensi pemisahan menjadi tiga subset juga sudah umum. Dalam kasus ini, dataset dibagi menjadi dataset pelatihan, validasi, dan pengujian. \n",
    "\n",
    "<img src=\"split.png\" width=\"400\"/>"
   ]
  },
  {
   "cell_type": "markdown",
   "id": "f9defd2d-b52d-424a-8f75-ab0bcb2ed4f1",
   "metadata": {},
   "source": [
    "## 3. Tugas Mahasiswa\n",
    "\n",
    "Silahkan lakukan pra-pemrosesan Data pada dataset Anda yang sudah dicari, jika belum ada gunakan dataset yang sudh\n"
   ]
  },
  {
   "cell_type": "code",
   "execution_count": 5,
   "id": "5e20ff68-bba9-4f87-87f6-e238cfcfb13d",
   "metadata": {},
   "outputs": [
    {
     "name": "stdout",
     "output_type": "stream",
     "text": [
      "[[1, 5], [2, 10], [nan, 2], [7, 35], [6, nan], [15, 75], [0, 0]]\n"
     ]
    }
   ],
   "source": [
    "import numpy as np\n",
    "\n",
    "X = [[1, 5], \n",
    "     [2, 10],\n",
    "     [np.nan, 2],\n",
    "     [7, 35], \n",
    "     [6, np.nan],\n",
    "     [15, 75],\n",
    "     [0, 0]]\n",
    "\n",
    "print(X)"
   ]
  }
 ],
 "metadata": {
  "kernelspec": {
   "display_name": "Python 3 (ipykernel)",
   "language": "python",
   "name": "python3"
  },
  "language_info": {
   "codemirror_mode": {
    "name": "ipython",
    "version": 3
   },
   "file_extension": ".py",
   "mimetype": "text/x-python",
   "name": "python",
   "nbconvert_exporter": "python",
   "pygments_lexer": "ipython3",
   "version": "3.12.8"
  }
 },
 "nbformat": 4,
 "nbformat_minor": 5
}
